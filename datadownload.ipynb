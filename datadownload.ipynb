{
 "cells": [
  {
   "cell_type": "code",
   "execution_count": 1,
   "id": "7e32f01a-32fd-41f0-b5d8-d2a83d7a6a0e",
   "metadata": {},
   "outputs": [],
   "source": [
    "#|default_exp datadownload"
   ]
  },
  {
   "cell_type": "code",
   "execution_count": 36,
   "id": "ff1f2596-35b6-4e34-8c91-4179484884b0",
   "metadata": {},
   "outputs": [],
   "source": [
    "from pathlib import Path\n",
    "import requests\n",
    "import csv\n",
    "from io import StringIO\n",
    "from rich import inspect\n",
    "import pandas as pd"
   ]
  },
  {
   "cell_type": "markdown",
   "id": "a8d648c9-d9ac-441a-83e3-a579a28b9fa3",
   "metadata": {},
   "source": [
    "# Data download"
   ]
  },
  {
   "cell_type": "code",
   "execution_count": 3,
   "id": "61c323f3-ac14-4e12-922a-644680f56b07",
   "metadata": {},
   "outputs": [],
   "source": [
    "def extract_metadata():\n",
    "    \"\"\"\n",
    "    Extract metadata for the fuel emission datasets\n",
    "    \n",
    "    \"\"\"\n",
    "    pass"
   ]
  },
  {
   "cell_type": "code",
   "execution_count": 33,
   "id": "f9e7840a-cb32-471a-ad23-256aab1d1d7d",
   "metadata": {},
   "outputs": [],
   "source": [
    "#|export\n",
    "def extract_raw_data(url, file_name):\n",
    "    \"\"\"\n",
    "    Extract raw data from a URL\n",
    "\n",
    "    Parameters\n",
    "    ----------\n",
    "    url : str\n",
    "        URL to extract data from\n",
    "        \n",
    "    file_name : str or Path object\n",
    "        file name for raw data dump\n",
    "        \n",
    "    \"\"\"\n",
    "    \n",
    "    try:\n",
    "        # Request data from url\n",
    "        response = requests.get(url)\n",
    "        content_type = response.headers['content-type']\n",
    "        response_text = response.text\n",
    "        print(f'Response status: {response.status_code}\\nContent Type: {content_type}')\n",
    "\n",
    "        # Save request content to csv file\n",
    "        with open(file_name, mode='w', newline='') as csvfile:\n",
    "            csvfile.write(response_text)\n",
    "\n",
    "        print(f'csv file: {file_name} saved')\n",
    "        \n",
    "    # Catch errors    \n",
    "    except requests.exceptions.HTTPError as err_h:\n",
    "        print(f'HTTP error occured:{err_h}')\n",
    "    except requests.exceptions.ConnectionError as err_c:\n",
    "        print(f'Error connecting:{err_c}')\n",
    "    except requests.exceptions.Timeout as err_t:\n",
    "        print(f'Timeout Error:{err_t}')\n",
    "    except requests.exceptions.RequestException as err:\n",
    "        print(f'There was an unknown error:{err}')"
   ]
  },
  {
   "cell_type": "code",
   "execution_count": 8,
   "id": "39e4db12-45e6-4c38-a96e-edf9c90213ed",
   "metadata": {},
   "outputs": [],
   "source": [
    "def merge_top_two_rows(input_file, output_file):\n",
    "    # Open the input CSV file for reading\n",
    "    with open(input_file, mode='r', newline='') as csvfile:\n",
    "        reader = csv.reader(csvfile)\n",
    "        \n",
    "        # Read the first two rows from the input file\n",
    "        header_row = next(reader)\n",
    "        second_row = next(reader)\n",
    "        \n",
    "        # Merge the two rows into one header\n",
    "        merged_header = [f\"{header_row[i]} {second_row[i]}\" for i in range(len(header_row))]\n",
    "        \n",
    "        # Open the output CSV file for writing\n",
    "        with open(output_file, mode='w', newline='') as output_csvfile:\n",
    "            writer = csv.writer(output_csvfile)\n",
    "            \n",
    "            # Write the merged header to the output file\n",
    "            writer.writerow(merged_header)\n",
    "            \n",
    "            # Copy the rest of the rows from the input file to the output file\n",
    "            for row in reader:\n",
    "                writer.writerow(row)"
   ]
  },
  {
   "cell_type": "code",
   "execution_count": 9,
   "id": "b7e0a707-c502-4f24-a54a-9dfcb5ae41dc",
   "metadata": {},
   "outputs": [],
   "source": [
    "def rename_columns(df):\n",
    "    \"\"\"\n",
    "    Rename dataframe columns so they are database friendly.\n",
    "\n",
    "    \"\"\"\n",
    "    #Drop empty columns and rows from the DataFrame\n",
    "    df.dropna(axis=1, how='all', inplace=True)\n",
    "    df.dropna(axis=0, thresh=5, inplace=True)"
   ]
  },
  {
   "cell_type": "code",
   "execution_count": 10,
   "id": "f4a35c8c-4458-4e76-9fd9-6bc9e70d8e0d",
   "metadata": {},
   "outputs": [],
   "source": [
    "def clean_dataframe():\n",
    "    \"\"\"\n",
    "    Clean the fuel consumption dataframe.\n",
    "\n",
    "    \"\"\"\n",
    "    pass"
   ]
  },
  {
   "cell_type": "markdown",
   "id": "cb7de96a-85e6-4440-b09e-7c577d67c3f0",
   "metadata": {},
   "source": [
    "## Script"
   ]
  },
  {
   "cell_type": "code",
   "execution_count": 11,
   "id": "3300bb9c-743b-4fdd-aebe-64860a8221a3",
   "metadata": {},
   "outputs": [],
   "source": [
    "url = 'https://natural-resources.canada.ca/sites/nrcan/files/oee/files/csv/MY2023%20Fuel%20Consumption%20Ratings.csv'"
   ]
  },
  {
   "cell_type": "code",
   "execution_count": 12,
   "id": "61992468-9e90-486a-8e6f-fc3b4ab2c6a7",
   "metadata": {},
   "outputs": [
    {
     "data": {
      "text/plain": [
       "PosixPath('/home/jsh/vehicle-co2')"
      ]
     },
     "execution_count": 12,
     "metadata": {},
     "output_type": "execute_result"
    }
   ],
   "source": [
    "path = Path.cwd()\n",
    "path"
   ]
  },
  {
   "cell_type": "code",
   "execution_count": 13,
   "id": "dc9651b9-cd37-4b26-b8e0-253813a28cd1",
   "metadata": {},
   "outputs": [],
   "source": [
    "# Declare file names\n",
    "raw_path = path / 'data' / 'raw'\n",
    "raw_file_name = raw_path / 'fuel-ratings-raw.csv'\n",
    "merged_headers_file_name = raw_path / 'fuel-ratings-raw-headers-merged.csv'"
   ]
  },
  {
   "cell_type": "code",
   "execution_count": 32,
   "id": "f2aab196-1ad8-42b2-ba8d-6ce72fd28436",
   "metadata": {
    "scrolled": true
   },
   "outputs": [
    {
     "name": "stdout",
     "output_type": "stream",
     "text": [
      "Response status: 200\n",
      "Content Type: text/csv\n",
      "csv file: /home/jsh/vehicle-co2/data/raw/fuel-ratings-raw.csv saved\n"
     ]
    }
   ],
   "source": [
    "extract_raw_data(url, raw_file_name)"
   ]
  },
  {
   "cell_type": "code",
   "execution_count": 34,
   "id": "e7df1846-415c-4bc9-989d-e4649b0e28f6",
   "metadata": {},
   "outputs": [],
   "source": [
    "merge_top_two_rows(raw_file_name, merged_headers_file_name)"
   ]
  },
  {
   "cell_type": "code",
   "execution_count": 41,
   "id": "7068d4ef-1ef3-4938-bbcc-198e4d522e84",
   "metadata": {},
   "outputs": [
    {
     "name": "stderr",
     "output_type": "stream",
     "text": [
      "/tmp/ipykernel_433/1156222380.py:1: DtypeWarning: Columns (0,1,2,3,6,7) have mixed types. Specify dtype option on import or set low_memory=False.\n",
      "  unprocessed_fuel_ratings_df = pd.read_csv(merged_headers_file_name)\n"
     ]
    }
   ],
   "source": [
    "unprocessed_fuel_ratings_df = pd.read_csv(merged_headers_file_name)"
   ]
  },
  {
   "cell_type": "code",
   "execution_count": 48,
   "id": "4b23f5e8-a64b-4ef8-a425-3359165cef75",
   "metadata": {},
   "outputs": [],
   "source": [
    "unprocessed_fuel_ratings_df.dropna(axis=1, how='all', inplace=True)"
   ]
  },
  {
   "cell_type": "code",
   "execution_count": 50,
   "id": "9177e4a9-365e-4c82-9084-d483668ed924",
   "metadata": {},
   "outputs": [],
   "source": [
    "unprocessed_fuel_ratings_df.dropna(axis=0, thresh=10, inplace=True)"
   ]
  },
  {
   "cell_type": "code",
   "execution_count": 51,
   "id": "1cb181cf-f4a7-4558-a5c4-ade1449c0e4a",
   "metadata": {},
   "outputs": [
    {
     "data": {
      "text/html": [
       "<div>\n",
       "<style scoped>\n",
       "    .dataframe tbody tr th:only-of-type {\n",
       "        vertical-align: middle;\n",
       "    }\n",
       "\n",
       "    .dataframe tbody tr th {\n",
       "        vertical-align: top;\n",
       "    }\n",
       "\n",
       "    .dataframe thead th {\n",
       "        text-align: right;\n",
       "    }\n",
       "</style>\n",
       "<table border=\"1\" class=\"dataframe\">\n",
       "  <thead>\n",
       "    <tr style=\"text-align: right;\">\n",
       "      <th></th>\n",
       "      <th>Model Year</th>\n",
       "      <th>Make</th>\n",
       "      <th>Model</th>\n",
       "      <th>Vehicle Class</th>\n",
       "      <th>Engine Size (L)</th>\n",
       "      <th>Cylinders</th>\n",
       "      <th>Transmission</th>\n",
       "      <th>Fuel Type</th>\n",
       "      <th>Fuel Consumption City (L/100 km)</th>\n",
       "      <th>Hwy (L/100 km)</th>\n",
       "      <th>Comb (L/100 km)</th>\n",
       "      <th>Comb (mpg)</th>\n",
       "      <th>CO2 Emissions (g/km)</th>\n",
       "      <th>CO2 Rating</th>\n",
       "      <th>Smog Rating</th>\n",
       "    </tr>\n",
       "  </thead>\n",
       "  <tbody>\n",
       "    <tr>\n",
       "      <th>0</th>\n",
       "      <td>2023</td>\n",
       "      <td>Acura</td>\n",
       "      <td>Integra</td>\n",
       "      <td>Full-size</td>\n",
       "      <td>1.5</td>\n",
       "      <td>4.0</td>\n",
       "      <td>AV7</td>\n",
       "      <td>Z</td>\n",
       "      <td>7.9</td>\n",
       "      <td>6.3</td>\n",
       "      <td>7.2</td>\n",
       "      <td>39.0</td>\n",
       "      <td>167.0</td>\n",
       "      <td>6.0</td>\n",
       "      <td>7.0</td>\n",
       "    </tr>\n",
       "    <tr>\n",
       "      <th>1</th>\n",
       "      <td>2023</td>\n",
       "      <td>Acura</td>\n",
       "      <td>Integra A-SPEC</td>\n",
       "      <td>Full-size</td>\n",
       "      <td>1.5</td>\n",
       "      <td>4.0</td>\n",
       "      <td>AV7</td>\n",
       "      <td>Z</td>\n",
       "      <td>8.1</td>\n",
       "      <td>6.5</td>\n",
       "      <td>7.4</td>\n",
       "      <td>38.0</td>\n",
       "      <td>172.0</td>\n",
       "      <td>6.0</td>\n",
       "      <td>7.0</td>\n",
       "    </tr>\n",
       "    <tr>\n",
       "      <th>2</th>\n",
       "      <td>2023</td>\n",
       "      <td>Acura</td>\n",
       "      <td>Integra A-SPEC</td>\n",
       "      <td>Full-size</td>\n",
       "      <td>1.5</td>\n",
       "      <td>4.0</td>\n",
       "      <td>M6</td>\n",
       "      <td>Z</td>\n",
       "      <td>8.9</td>\n",
       "      <td>6.5</td>\n",
       "      <td>7.8</td>\n",
       "      <td>36.0</td>\n",
       "      <td>181.0</td>\n",
       "      <td>6.0</td>\n",
       "      <td>6.0</td>\n",
       "    </tr>\n",
       "    <tr>\n",
       "      <th>3</th>\n",
       "      <td>2023</td>\n",
       "      <td>Acura</td>\n",
       "      <td>MDX SH-AWD</td>\n",
       "      <td>SUV: Small</td>\n",
       "      <td>3.5</td>\n",
       "      <td>6.0</td>\n",
       "      <td>AS10</td>\n",
       "      <td>Z</td>\n",
       "      <td>12.6</td>\n",
       "      <td>9.4</td>\n",
       "      <td>11.2</td>\n",
       "      <td>25.0</td>\n",
       "      <td>263.0</td>\n",
       "      <td>4.0</td>\n",
       "      <td>5.0</td>\n",
       "    </tr>\n",
       "    <tr>\n",
       "      <th>4</th>\n",
       "      <td>2023</td>\n",
       "      <td>Acura</td>\n",
       "      <td>MDX SH-AWD Type S</td>\n",
       "      <td>SUV: Standard</td>\n",
       "      <td>3.0</td>\n",
       "      <td>6.0</td>\n",
       "      <td>AS10</td>\n",
       "      <td>Z</td>\n",
       "      <td>13.8</td>\n",
       "      <td>11.2</td>\n",
       "      <td>12.4</td>\n",
       "      <td>23.0</td>\n",
       "      <td>291.0</td>\n",
       "      <td>4.0</td>\n",
       "      <td>5.0</td>\n",
       "    </tr>\n",
       "    <tr>\n",
       "      <th>...</th>\n",
       "      <td>...</td>\n",
       "      <td>...</td>\n",
       "      <td>...</td>\n",
       "      <td>...</td>\n",
       "      <td>...</td>\n",
       "      <td>...</td>\n",
       "      <td>...</td>\n",
       "      <td>...</td>\n",
       "      <td>...</td>\n",
       "      <td>...</td>\n",
       "      <td>...</td>\n",
       "      <td>...</td>\n",
       "      <td>...</td>\n",
       "      <td>...</td>\n",
       "      <td>...</td>\n",
       "    </tr>\n",
       "    <tr>\n",
       "      <th>828</th>\n",
       "      <td>2023</td>\n",
       "      <td>Volvo</td>\n",
       "      <td>XC40 B5 AWD</td>\n",
       "      <td>SUV: Small</td>\n",
       "      <td>2.0</td>\n",
       "      <td>4.0</td>\n",
       "      <td>AS8</td>\n",
       "      <td>Z</td>\n",
       "      <td>10.2</td>\n",
       "      <td>7.9</td>\n",
       "      <td>9.2</td>\n",
       "      <td>31.0</td>\n",
       "      <td>215.0</td>\n",
       "      <td>5.0</td>\n",
       "      <td>5.0</td>\n",
       "    </tr>\n",
       "    <tr>\n",
       "      <th>829</th>\n",
       "      <td>2023</td>\n",
       "      <td>Volvo</td>\n",
       "      <td>XC60 B5 AWD</td>\n",
       "      <td>SUV: Small</td>\n",
       "      <td>2.0</td>\n",
       "      <td>4.0</td>\n",
       "      <td>AS8</td>\n",
       "      <td>Z</td>\n",
       "      <td>10.3</td>\n",
       "      <td>8.2</td>\n",
       "      <td>9.4</td>\n",
       "      <td>30.0</td>\n",
       "      <td>218.0</td>\n",
       "      <td>5.0</td>\n",
       "      <td>5.0</td>\n",
       "    </tr>\n",
       "    <tr>\n",
       "      <th>830</th>\n",
       "      <td>2023</td>\n",
       "      <td>Volvo</td>\n",
       "      <td>XC60 B6 AWD</td>\n",
       "      <td>SUV: Small</td>\n",
       "      <td>2.0</td>\n",
       "      <td>4.0</td>\n",
       "      <td>AS8</td>\n",
       "      <td>Z</td>\n",
       "      <td>11.1</td>\n",
       "      <td>8.7</td>\n",
       "      <td>10.0</td>\n",
       "      <td>28.0</td>\n",
       "      <td>233.0</td>\n",
       "      <td>5.0</td>\n",
       "      <td>7.0</td>\n",
       "    </tr>\n",
       "    <tr>\n",
       "      <th>831</th>\n",
       "      <td>2023</td>\n",
       "      <td>Volvo</td>\n",
       "      <td>XC90 B5 AWD</td>\n",
       "      <td>SUV: Standard</td>\n",
       "      <td>2.0</td>\n",
       "      <td>4.0</td>\n",
       "      <td>AS8</td>\n",
       "      <td>Z</td>\n",
       "      <td>10.5</td>\n",
       "      <td>8.4</td>\n",
       "      <td>9.6</td>\n",
       "      <td>29.0</td>\n",
       "      <td>223.0</td>\n",
       "      <td>5.0</td>\n",
       "      <td>5.0</td>\n",
       "    </tr>\n",
       "    <tr>\n",
       "      <th>832</th>\n",
       "      <td>2023</td>\n",
       "      <td>Volvo</td>\n",
       "      <td>XC90 B6 AWD</td>\n",
       "      <td>SUV: Standard</td>\n",
       "      <td>2.0</td>\n",
       "      <td>4.0</td>\n",
       "      <td>AS8</td>\n",
       "      <td>Z</td>\n",
       "      <td>11.9</td>\n",
       "      <td>9.1</td>\n",
       "      <td>10.6</td>\n",
       "      <td>27.0</td>\n",
       "      <td>249.0</td>\n",
       "      <td>5.0</td>\n",
       "      <td>7.0</td>\n",
       "    </tr>\n",
       "  </tbody>\n",
       "</table>\n",
       "<p>833 rows × 15 columns</p>\n",
       "</div>"
      ],
      "text/plain": [
       "    Model Year  Make              Model  Vehicle Class   Engine Size (L)  \\\n",
       "0         2023  Acura            Integra      Full-size              1.5   \n",
       "1         2023  Acura     Integra A-SPEC      Full-size              1.5   \n",
       "2         2023  Acura     Integra A-SPEC      Full-size              1.5   \n",
       "3         2023  Acura         MDX SH-AWD     SUV: Small              3.5   \n",
       "4         2023  Acura  MDX SH-AWD Type S  SUV: Standard              3.0   \n",
       "..         ...    ...                ...            ...              ...   \n",
       "828       2023  Volvo        XC40 B5 AWD     SUV: Small              2.0   \n",
       "829       2023  Volvo        XC60 B5 AWD     SUV: Small              2.0   \n",
       "830       2023  Volvo        XC60 B6 AWD     SUV: Small              2.0   \n",
       "831       2023  Volvo        XC90 B5 AWD  SUV: Standard              2.0   \n",
       "832       2023  Volvo        XC90 B6 AWD  SUV: Standard              2.0   \n",
       "\n",
       "     Cylinders  Transmission  Fuel Type  Fuel Consumption City (L/100 km)  \\\n",
       "0           4.0           AV7         Z                               7.9   \n",
       "1           4.0           AV7         Z                               8.1   \n",
       "2           4.0            M6         Z                               8.9   \n",
       "3           6.0          AS10         Z                              12.6   \n",
       "4           6.0          AS10         Z                              13.8   \n",
       "..          ...           ...       ...                               ...   \n",
       "828         4.0           AS8         Z                              10.2   \n",
       "829         4.0           AS8         Z                              10.3   \n",
       "830         4.0           AS8         Z                              11.1   \n",
       "831         4.0           AS8         Z                              10.5   \n",
       "832         4.0           AS8         Z                              11.9   \n",
       "\n",
       "      Hwy (L/100 km)   Comb (L/100 km)   Comb (mpg)  CO2 Emissions (g/km)  \\\n",
       "0                6.3               7.2         39.0                 167.0   \n",
       "1                6.5               7.4         38.0                 172.0   \n",
       "2                6.5               7.8         36.0                 181.0   \n",
       "3                9.4              11.2         25.0                 263.0   \n",
       "4               11.2              12.4         23.0                 291.0   \n",
       "..               ...               ...          ...                   ...   \n",
       "828              7.9               9.2         31.0                 215.0   \n",
       "829              8.2               9.4         30.0                 218.0   \n",
       "830              8.7              10.0         28.0                 233.0   \n",
       "831              8.4               9.6         29.0                 223.0   \n",
       "832              9.1              10.6         27.0                 249.0   \n",
       "\n",
       "     CO2 Rating  Smog Rating  \n",
       "0           6.0          7.0  \n",
       "1           6.0          7.0  \n",
       "2           6.0          6.0  \n",
       "3           4.0          5.0  \n",
       "4           4.0          5.0  \n",
       "..          ...          ...  \n",
       "828         5.0          5.0  \n",
       "829         5.0          5.0  \n",
       "830         5.0          7.0  \n",
       "831         5.0          5.0  \n",
       "832         5.0          7.0  \n",
       "\n",
       "[833 rows x 15 columns]"
      ]
     },
     "execution_count": 51,
     "metadata": {},
     "output_type": "execute_result"
    }
   ],
   "source": [
    "unprocessed_fuel_ratings_df"
   ]
  },
  {
   "cell_type": "code",
   "execution_count": null,
   "id": "69537ba8-70b5-45f5-8c1c-cf08ef025ea5",
   "metadata": {},
   "outputs": [],
   "source": [
    "rename_columns(unprocessed_fuel_ratings_df)"
   ]
  },
  {
   "cell_type": "code",
   "execution_count": null,
   "id": "0fff1e3a-3a2d-4078-ae2b-ae2770c60df2",
   "metadata": {},
   "outputs": [],
   "source": [
    "clean_fuel_ratings_df = clean_dataframe(unprocessed_fuel_ratings_df)"
   ]
  },
  {
   "cell_type": "code",
   "execution_count": 88,
   "id": "9a513ec2-40c1-4b07-bc79-206794390af0",
   "metadata": {},
   "outputs": [],
   "source": [
    "def extract_first_table(file_path):\n",
    "    try:\n",
    "        with open(file_path, 'r', newline='') as csvfile:\n",
    "            reader = csv.reader(csvfile)\n",
    "            rows = list(reader)\n",
    "\n",
    "        # Find index of first empty row\n",
    "        empty_row_idx = -1\n",
    "        for i, row in enumerate(rows):\n",
    "            if not any(row):\n",
    "                empty_row_idx = i\n",
    "                break\n",
    "                \n",
    "        if empty_row_idx >= 0:\n",
    "        # Create a new CSV file with only the rows before the first empty row\n",
    "            with open('test7.csv', 'w', newline='') as csvfile:\n",
    "                writer = csv.writer(csvfile)\n",
    "                writer.writerows(rows[:empty_row_idx])\n",
    "            print(f'Removed rows after the first empty row.')\n",
    "        else:\n",
    "            print(f'No empty row found in the file')\n",
    "    except FileNotFoundError:\n",
    "        print(f'File {file_path} not found.')\n",
    "    except Exception as e:\n",
    "        print('An error occured while processing the file:', e)"
   ]
  },
  {
   "cell_type": "code",
   "execution_count": 89,
   "id": "85d6d0d2-ba10-4594-9629-b5619d01124d",
   "metadata": {},
   "outputs": [
    {
     "name": "stdout",
     "output_type": "stream",
     "text": [
      "Removed rows after the first empty row.\n"
     ]
    }
   ],
   "source": [
    "# extract_first_table(file_path)"
   ]
  },
  {
   "cell_type": "code",
   "execution_count": null,
   "id": "9e2e609a-4349-4a68-b476-a7f030fe60ed",
   "metadata": {},
   "outputs": [],
   "source": [
    "# Export notebook to module.\n",
    "from nbdev.export import nb_export\n",
    "path = Path.cwd()\n",
    "lib_path = path\n",
    "nb_path = path / 'datadownload.ipynb'\n",
    "nb_export(nb_path, lib_path)"
   ]
  }
 ],
 "metadata": {
  "kernelspec": {
   "display_name": "Python 3 (ipykernel)",
   "language": "python",
   "name": "python3"
  },
  "language_info": {
   "codemirror_mode": {
    "name": "ipython",
    "version": 3
   },
   "file_extension": ".py",
   "mimetype": "text/x-python",
   "name": "python",
   "nbconvert_exporter": "python",
   "pygments_lexer": "ipython3",
   "version": "3.11.5"
  }
 },
 "nbformat": 4,
 "nbformat_minor": 5
}
