{
 "cells": [
  {
   "cell_type": "code",
   "execution_count": null,
   "id": "7e32f01a-32fd-41f0-b5d8-d2a83d7a6a0e",
   "metadata": {},
   "outputs": [],
   "source": [
    "#|default_exp datadownload"
   ]
  },
  {
   "cell_type": "code",
   "execution_count": 23,
   "id": "ff1f2596-35b6-4e34-8c91-4179484884b0",
   "metadata": {},
   "outputs": [],
   "source": [
    "from pathlib import Path\n",
    "import requests"
   ]
  },
  {
   "cell_type": "markdown",
   "id": "a8d648c9-d9ac-441a-83e3-a579a28b9fa3",
   "metadata": {},
   "source": [
    "# Data download"
   ]
  },
  {
   "cell_type": "code",
   "execution_count": 28,
   "id": "3300bb9c-743b-4fdd-aebe-64860a8221a3",
   "metadata": {},
   "outputs": [],
   "source": [
    "url = 'https://natural-resources.canada.ca/sites/nrcan/files/oee/files/csv/MY2023%20Fuel%20Consumption%20Ratings.csv'"
   ]
  },
  {
   "cell_type": "code",
   "execution_count": 29,
   "id": "c5ded055-f2e8-4f95-ac0a-4a8dec17394a",
   "metadata": {},
   "outputs": [],
   "source": [
    "response = requests.get(url)"
   ]
  },
  {
   "cell_type": "code",
   "execution_count": 32,
   "id": "57bb7e64-0e30-48d3-8c97-b97f7c0e6bbf",
   "metadata": {},
   "outputs": [
    {
     "data": {
      "text/plain": [
       "200"
      ]
     },
     "execution_count": 32,
     "metadata": {},
     "output_type": "execute_result"
    }
   ],
   "source": [
    "response.status_code"
   ]
  },
  {
   "cell_type": "code",
   "execution_count": 38,
   "id": "f9e7840a-cb32-471a-ad23-256aab1d1d7d",
   "metadata": {},
   "outputs": [],
   "source": [
    "#|export\n",
    "def extract_raw_data(url):\n",
    "    \"\"\"\n",
    "    Extract raw data from a URL\n",
    "\n",
    "    Parameters\n",
    "    ----------\n",
    "    url : str\n",
    "        URL to extract data from\n",
    "        \n",
    "    \"\"\"\n",
    "    \n",
    "    try:\n",
    "        response = requests.get(url)\n",
    "        return response.text\n",
    "        \n",
    "    except requests.exceptions.HTTPError as err_h:\n",
    "        print(f'HTTP error occured:{err_h}')\n",
    "    except requests.exceptions.ConnectionError as err_c:\n",
    "        print(f'Error connecting:{err_c}')\n",
    "    except requests.exceptions.Timeout as err_t:\n",
    "        print(f'Timeout Error:{err_t}')\n",
    "    except requests.exceptions.RequestException as err:\n",
    "        print(f'There was an unknown error:{err}')"
   ]
  },
  {
   "cell_type": "code",
   "execution_count": null,
   "id": "9e2e609a-4349-4a68-b476-a7f030fe60ed",
   "metadata": {},
   "outputs": [],
   "source": [
    "# Export notebook to module.\n",
    "from nbdev.export import nb_export\n",
    "path = Path.cwd()\n",
    "lib_path = path\n",
    "nb_path = path / 'datadownload.ipynb'\n",
    "nb_export(nb_path, lib_path)"
   ]
  }
 ],
 "metadata": {
  "kernelspec": {
   "display_name": "Python 3 (ipykernel)",
   "language": "python",
   "name": "python3"
  },
  "language_info": {
   "codemirror_mode": {
    "name": "ipython",
    "version": 3
   },
   "file_extension": ".py",
   "mimetype": "text/x-python",
   "name": "python",
   "nbconvert_exporter": "python",
   "pygments_lexer": "ipython3",
   "version": "3.11.5"
  }
 },
 "nbformat": 4,
 "nbformat_minor": 5
}
