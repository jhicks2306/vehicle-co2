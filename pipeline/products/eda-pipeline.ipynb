{
 "cells": [
  {
   "cell_type": "code",
   "execution_count": 1,
   "id": "5ac71b98",
   "metadata": {
    "execution": {
     "iopub.execute_input": "2023-10-16T17:39:22.472384Z",
     "iopub.status.busy": "2023-10-16T17:39:22.470133Z",
     "iopub.status.idle": "2023-10-16T17:39:22.478810Z",
     "shell.execute_reply": "2023-10-16T17:39:22.477794Z"
    },
    "papermill": {
     "duration": 0.013762,
     "end_time": "2023-10-16T17:39:22.480384",
     "exception": false,
     "start_time": "2023-10-16T17:39:22.466622",
     "status": "completed"
    },
    "tags": [
     "parameters"
    ]
   },
   "outputs": [],
   "source": [
    "# declare a list tasks whose products you want to use as inputs\n",
    "upstream = None\n"
   ]
  },
  {
   "cell_type": "code",
   "execution_count": 2,
   "id": "084b6f1b",
   "metadata": {
    "execution": {
     "iopub.execute_input": "2023-10-16T17:39:22.487348Z",
     "iopub.status.busy": "2023-10-16T17:39:22.486984Z",
     "iopub.status.idle": "2023-10-16T17:39:22.491144Z",
     "shell.execute_reply": "2023-10-16T17:39:22.490512Z"
    },
    "papermill": {
     "duration": 0.009001,
     "end_time": "2023-10-16T17:39:22.492236",
     "exception": false,
     "start_time": "2023-10-16T17:39:22.483235",
     "status": "completed"
    },
    "tags": [
     "injected-parameters"
    ]
   },
   "outputs": [],
   "source": [
    "# Parameters\n",
    "product = {\"nb\": \"/home/jsh/vehicle-co2/pipeline/products/eda-pipeline.ipynb\"}\n"
   ]
  },
  {
   "cell_type": "code",
   "execution_count": 3,
   "id": "5d40f5a4-0991-4629-b740-d1725ea15c7d",
   "metadata": {
    "execution": {
     "iopub.execute_input": "2023-10-16T17:39:22.498110Z",
     "iopub.status.busy": "2023-10-16T17:39:22.497869Z",
     "iopub.status.idle": "2023-10-16T17:39:22.842333Z",
     "shell.execute_reply": "2023-10-16T17:39:22.841245Z"
    },
    "papermill": {
     "duration": 0.349614,
     "end_time": "2023-10-16T17:39:22.844340",
     "exception": false,
     "start_time": "2023-10-16T17:39:22.494726",
     "status": "completed"
    },
    "tags": []
   },
   "outputs": [],
   "source": [
    "from pathlib import Path\n",
    "import pandas as pd"
   ]
  },
  {
   "cell_type": "markdown",
   "id": "8e2670c3-1e6d-4fba-bbc8-e635f38a44f0",
   "metadata": {
    "papermill": {
     "duration": 0.003744,
     "end_time": "2023-10-16T17:39:22.852385",
     "exception": false,
     "start_time": "2023-10-16T17:39:22.848641",
     "status": "completed"
    },
    "tags": []
   },
   "source": [
    "# Load database"
   ]
  },
  {
   "cell_type": "code",
   "execution_count": 4,
   "id": "35d4822e-c5c8-435c-bd4d-a86700279901",
   "metadata": {
    "execution": {
     "iopub.execute_input": "2023-10-16T17:39:22.859511Z",
     "iopub.status.busy": "2023-10-16T17:39:22.859141Z",
     "iopub.status.idle": "2023-10-16T17:39:23.533680Z",
     "shell.execute_reply": "2023-10-16T17:39:23.532647Z"
    },
    "papermill": {
     "duration": 0.679324,
     "end_time": "2023-10-16T17:39:23.534638",
     "exception": true,
     "start_time": "2023-10-16T17:39:22.855314",
     "status": "failed"
    },
    "tags": []
   },
   "outputs": [
    {
     "name": "stderr",
     "output_type": "stream",
     "text": [
      "RuntimeError: (duckdb.IOException) IO Error: Cannot open file \"/home/jsh/vehicle-co2/../data/database/car_data.duckdb\": No such file or directory\n",
      "(Background on this error at: https://sqlalche.me/e/20/e3q8)\n",
      "If you need help solving this issue, send us a message: https://ploomber.io/community\n"
     ]
    }
   ],
   "source": [
    "# Loading in SQL extension\n",
    "%reload_ext sql\n",
    "\n",
    "# Initiating a DuckDB database named 'car_data.duckdb' to run SQL queries\n",
    "%sql duckdb:///../data/database/car_data.duckdb"
   ]
  },
  {
   "cell_type": "code",
   "execution_count": null,
   "id": "d1bac012-ddc7-404a-ae62-c09dcfba704b",
   "metadata": {
    "papermill": {
     "duration": null,
     "end_time": null,
     "exception": null,
     "start_time": null,
     "status": "pending"
    },
    "tags": []
   },
   "outputs": [],
   "source": [
    "%sqlcmd tables"
   ]
  },
  {
   "cell_type": "code",
   "execution_count": null,
   "id": "028e72ae-46a0-47cc-b511-c3de496b61ff",
   "metadata": {
    "papermill": {
     "duration": null,
     "end_time": null,
     "exception": null,
     "start_time": null,
     "status": "pending"
    },
    "tags": []
   },
   "outputs": [],
   "source": [
    "%sqlcmd explore --table all_vehicles"
   ]
  },
  {
   "cell_type": "code",
   "execution_count": null,
   "id": "4de08cd3-c97d-42e5-94ea-72455566cd93",
   "metadata": {
    "papermill": {
     "duration": null,
     "end_time": null,
     "exception": null,
     "start_time": null,
     "status": "pending"
    },
    "tags": []
   },
   "outputs": [],
   "source": [
    "%sqlcmd explore --table electric"
   ]
  },
  {
   "cell_type": "markdown",
   "id": "b37ed54e-f6a2-4936-8656-68d860179991",
   "metadata": {
    "papermill": {
     "duration": null,
     "end_time": null,
     "exception": null,
     "start_time": null,
     "status": "pending"
    },
    "tags": []
   },
   "source": [
    "## Store queries"
   ]
  },
  {
   "cell_type": "markdown",
   "id": "5ac69041-0117-41bf-b92f-b7d269261a3e",
   "metadata": {
    "papermill": {
     "duration": null,
     "end_time": null,
     "exception": null,
     "start_time": null,
     "status": "pending"
    },
    "tags": []
   },
   "source": [
    "### Tables for Plot 1"
   ]
  },
  {
   "cell_type": "code",
   "execution_count": null,
   "id": "c2b6a283-d5f6-4af5-8422-c0171f098895",
   "metadata": {
    "papermill": {
     "duration": null,
     "end_time": null,
     "exception": null,
     "start_time": null,
     "status": "pending"
    },
    "tags": []
   },
   "outputs": [],
   "source": [
    "%%sql\n",
    "CREATE TABLE q_1_hybrid_electric AS\n",
    "    SELECT DISTINCT model_year, vehicle_type, COUNT(id) AS num_vehicles\n",
    "    FROM all_vehicles\n",
    "    WHERE vehicle_type = 'hybrid' OR vehicle_type = 'electric'\n",
    "    GROUP BY model_year, vehicle_type\n",
    "    ORDER BY num_vehicles DESC;"
   ]
  },
  {
   "cell_type": "code",
   "execution_count": null,
   "id": "9229c01a-2065-4e01-87d1-5187fb3fef40",
   "metadata": {
    "papermill": {
     "duration": null,
     "end_time": null,
     "exception": null,
     "start_time": null,
     "status": "pending"
    },
    "tags": []
   },
   "outputs": [],
   "source": [
    "%%sql\n",
    "CREATE TABLE q_1_fuel AS\n",
    "    SELECT DISTINCT model_year, vehicle_type, COUNT(id) AS num_vehicles\n",
    "    FROM fuel\n",
    "    GROUP BY model_year, vehicle_type\n",
    "    ORDER BY model_year;"
   ]
  },
  {
   "cell_type": "markdown",
   "id": "20d01bda-38ec-4afb-aa15-0471721b5c42",
   "metadata": {
    "papermill": {
     "duration": null,
     "end_time": null,
     "exception": null,
     "start_time": null,
     "status": "pending"
    },
    "tags": []
   },
   "source": [
    "#### Verify data"
   ]
  },
  {
   "cell_type": "code",
   "execution_count": null,
   "id": "bcc17af1-487e-4c0b-94c2-dc296c67a77a",
   "metadata": {
    "papermill": {
     "duration": null,
     "end_time": null,
     "exception": null,
     "start_time": null,
     "status": "pending"
    },
    "tags": []
   },
   "outputs": [],
   "source": [
    "%%sql \n",
    "SELECT * FROM q_1_hybrid_electric;"
   ]
  },
  {
   "cell_type": "code",
   "execution_count": null,
   "id": "472d5104-3e7b-4f4d-9162-ed996bde5525",
   "metadata": {
    "papermill": {
     "duration": null,
     "end_time": null,
     "exception": null,
     "start_time": null,
     "status": "pending"
    },
    "tags": []
   },
   "outputs": [],
   "source": [
    "%%sql \n",
    "SELECT * FROM q_1_fuel;"
   ]
  },
  {
   "cell_type": "markdown",
   "id": "f765b8a1-2407-4875-b91c-063e241942c9",
   "metadata": {
    "papermill": {
     "duration": null,
     "end_time": null,
     "exception": null,
     "start_time": null,
     "status": "pending"
    },
    "tags": []
   },
   "source": [
    "## Table for Plot 2"
   ]
  },
  {
   "cell_type": "code",
   "execution_count": null,
   "id": "570a7102-ee9d-42a7-b59b-387b30121cb6",
   "metadata": {
    "papermill": {
     "duration": null,
     "end_time": null,
     "exception": null,
     "start_time": null,
     "status": "pending"
    },
    "tags": []
   },
   "outputs": [],
   "source": [
    "%%sql \n",
    "CREATE TABLE boxplot_fuel_consum AS\n",
    "    SELECT consumption_city_l_100_km, consumption_hwy_l_100_km, consumption_comb_l_100_km, co2_emissions_g_km\n",
    "    FROM all_vehicles;"
   ]
  },
  {
   "cell_type": "markdown",
   "id": "29cb6101-c758-4ac3-a8f8-54f27ccb4ef1",
   "metadata": {
    "papermill": {
     "duration": null,
     "end_time": null,
     "exception": null,
     "start_time": null,
     "status": "pending"
    },
    "tags": []
   },
   "source": [
    "#### Verify data"
   ]
  },
  {
   "cell_type": "code",
   "execution_count": null,
   "id": "e65d0520-bbbb-41c0-be78-198f0c3e6bf0",
   "metadata": {
    "papermill": {
     "duration": null,
     "end_time": null,
     "exception": null,
     "start_time": null,
     "status": "pending"
    },
    "tags": []
   },
   "outputs": [],
   "source": [
    "%%sql\n",
    "SELECT * FROM boxplot_fuel_consum; "
   ]
  },
  {
   "cell_type": "markdown",
   "id": "c4b4db12-6aaf-47e8-994d-facafedfc0a6",
   "metadata": {
    "papermill": {
     "duration": null,
     "end_time": null,
     "exception": null,
     "start_time": null,
     "status": "pending"
    },
    "tags": []
   },
   "source": [
    "## Table for Plot 3"
   ]
  },
  {
   "cell_type": "code",
   "execution_count": null,
   "id": "85c5049b-24d9-4b73-aa82-fb21088054ee",
   "metadata": {
    "papermill": {
     "duration": null,
     "end_time": null,
     "exception": null,
     "start_time": null,
     "status": "pending"
    },
    "tags": []
   },
   "outputs": [],
   "source": [
    "%%sql\n",
    "CREATE TABLE electric_range_charge AS\n",
    "    SELECT range_km, recharge_time_h, vehicle_class, model_year\n",
    "    FROM electric"
   ]
  },
  {
   "cell_type": "markdown",
   "id": "5142089c-fbf6-413f-b7ad-05658d7543dc",
   "metadata": {
    "papermill": {
     "duration": null,
     "end_time": null,
     "exception": null,
     "start_time": null,
     "status": "pending"
    },
    "tags": []
   },
   "source": [
    "#### Verify data"
   ]
  },
  {
   "cell_type": "code",
   "execution_count": null,
   "id": "c78faa87-2cb0-4bf7-95be-a0f6ff412845",
   "metadata": {
    "papermill": {
     "duration": null,
     "end_time": null,
     "exception": null,
     "start_time": null,
     "status": "pending"
    },
    "tags": []
   },
   "outputs": [],
   "source": [
    "%%sql\n",
    "SELECT * FROM  electric_range_charge"
   ]
  },
  {
   "cell_type": "markdown",
   "id": "3a339041-99c1-43be-9cf5-fb7955d307eb",
   "metadata": {
    "papermill": {
     "duration": null,
     "end_time": null,
     "exception": null,
     "start_time": null,
     "status": "pending"
    },
    "tags": []
   },
   "source": [
    "## Table for Plot 4"
   ]
  },
  {
   "cell_type": "code",
   "execution_count": null,
   "id": "77b1cc20-bf7a-440c-a0bc-79e2f2672bb5",
   "metadata": {
    "papermill": {
     "duration": null,
     "end_time": null,
     "exception": null,
     "start_time": null,
     "status": "pending"
    },
    "tags": []
   },
   "outputs": [],
   "source": [
    "%%sql\n",
    "CREATE TABLE hist_co2 AS\n",
    "    SELECT vehicle_type, fuel_type, co2_emissions_g_km\n",
    "    FROM all_vehicles\n",
    "    WHERE co2_emissions_g_km IS NOT NULL;"
   ]
  },
  {
   "cell_type": "markdown",
   "id": "f586fce2-2e93-4bec-9fda-d5a3ab69dbf4",
   "metadata": {
    "papermill": {
     "duration": null,
     "end_time": null,
     "exception": null,
     "start_time": null,
     "status": "pending"
    },
    "tags": []
   },
   "source": [
    "#### Verify data"
   ]
  },
  {
   "cell_type": "code",
   "execution_count": null,
   "id": "8c9a8ed4-df0a-49f3-8b76-89ed3733c423",
   "metadata": {
    "papermill": {
     "duration": null,
     "end_time": null,
     "exception": null,
     "start_time": null,
     "status": "pending"
    },
    "tags": []
   },
   "outputs": [],
   "source": [
    "%%sql\n",
    "SELECT * FROM hist_co2"
   ]
  },
  {
   "cell_type": "markdown",
   "id": "ecd6d7ad-aac2-4cd0-9a21-afb1ccaa70e1",
   "metadata": {
    "papermill": {
     "duration": null,
     "end_time": null,
     "exception": null,
     "start_time": null,
     "status": "pending"
    },
    "tags": []
   },
   "source": [
    "## Tables for Plot 5"
   ]
  },
  {
   "cell_type": "code",
   "execution_count": null,
   "id": "6d80e4d5-8f3c-4e33-8605-1c7b75eedacf",
   "metadata": {
    "papermill": {
     "duration": null,
     "end_time": null,
     "exception": null,
     "start_time": null,
     "status": "pending"
    },
    "tags": []
   },
   "outputs": [],
   "source": [
    "%%sql\n",
    "CREATE TABLE co2_usa AS\n",
    "    SELECT vehicle_type, make, co2_emissions_g_km, transmission_type\n",
    "    FROM all_vehicles\n",
    "    WHERE co2_emissions_g_km IS NOT NULL AND\n",
    "    vehicle_type IN ('fuel-only', 'hybrid') AND\n",
    "    make IN ('cadillac', 'chevrolet', 'chrysler', 'ford', 'jeep', 'lincoln')"
   ]
  },
  {
   "cell_type": "markdown",
   "id": "7629c127-8fef-4777-acd1-a3897d2b5610",
   "metadata": {
    "papermill": {
     "duration": null,
     "end_time": null,
     "exception": null,
     "start_time": null,
     "status": "pending"
    },
    "tags": []
   },
   "source": [
    "#### Verify data"
   ]
  },
  {
   "cell_type": "code",
   "execution_count": null,
   "id": "f7ec5014-230e-4951-b2a4-5485209c3674",
   "metadata": {
    "papermill": {
     "duration": null,
     "end_time": null,
     "exception": null,
     "start_time": null,
     "status": "pending"
    },
    "tags": []
   },
   "outputs": [],
   "source": [
    "%%sql\n",
    "SELECT * FROM co2_usa;"
   ]
  },
  {
   "cell_type": "code",
   "execution_count": null,
   "id": "735a3a2c-dff5-49a8-aee2-34069d8e4995",
   "metadata": {
    "papermill": {
     "duration": null,
     "end_time": null,
     "exception": null,
     "start_time": null,
     "status": "pending"
    },
    "tags": []
   },
   "outputs": [],
   "source": []
  }
 ],
 "metadata": {
  "kernelspec": {
   "display_name": "pl",
   "language": "python",
   "name": "pl"
  },
  "language_info": {
   "codemirror_mode": {
    "name": "ipython",
    "version": 3
   },
   "file_extension": ".py",
   "mimetype": "text/x-python",
   "name": "python",
   "nbconvert_exporter": "python",
   "pygments_lexer": "ipython3",
   "version": "3.11.4"
  },
  "papermill": {
   "duration": 2.926744,
   "end_time": "2023-10-16T17:39:24.662170",
   "exception": true,
   "input_path": "/tmp/tmppeoo1sok.ipynb",
   "output_path": "/home/jsh/vehicle-co2/pipeline/products/eda-pipeline.ipynb",
   "parameters": {
    "product": {
     "nb": "/home/jsh/vehicle-co2/pipeline/products/eda-pipeline.ipynb"
    }
   },
   "start_time": "2023-10-16T17:39:21.735426"
  }
 },
 "nbformat": 4,
 "nbformat_minor": 5
}