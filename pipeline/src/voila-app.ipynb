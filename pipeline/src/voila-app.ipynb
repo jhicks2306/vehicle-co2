{
 "cells": [
  {
   "cell_type": "code",
   "execution_count": 1,
   "metadata": {},
   "outputs": [],
   "source": [
    "import ipywidgets as widgets\n",
    "from ipywidgets import interactive_output, interact\n",
    "from menu import init_widgets, style, setup_menu, select_table\n",
    "from dashboard import (\n",
    "    Seaborn_Barplot,\n",
    "    Seaborn_Boxplot,\n",
    "    Seaborn_Scatter,\n",
    "    Boxplot_ggplot,\n",
    "    Histogram_ggplot,\n",
    ")\n",
    "from IPython.display import display, clear_output\n",
    "import pandas as pd\n",
    "import numpy as np\n",
    "from itables import init_notebook_mode, show"
   ]
  },
  {
   "cell_type": "code",
   "execution_count": 2,
   "metadata": {},
   "outputs": [],
   "source": [
    "%load_ext sql\n",
    "\n",
    "%sql duckdb:///../data/database/car_data.duckdb\n",
    "\n",
    "# %config SqlMagic = False"
   ]
  },
  {
   "cell_type": "code",
   "execution_count": 3,
   "metadata": {},
   "outputs": [
    {
     "data": {
      "text/html": [
       "<span style=\"None\">Running query in &#x27;duckdb:///../data/database/car_data.duckdb&#x27;</span>"
      ],
      "text/plain": [
       "Running query in 'duckdb:///../data/database/car_data.duckdb'"
      ]
     },
     "metadata": {},
     "output_type": "display_data"
    }
   ],
   "source": [
    "years = %sql select DISTINCT(model_year) from all_vehicles\n",
    "years = tuple([model_year[0] for model_year in years])"
   ]
  },
  {
   "cell_type": "code",
   "execution_count": 4,
   "metadata": {},
   "outputs": [
    {
     "data": {
      "text/html": [
       "<span style=\"None\">Running query in &#x27;duckdb:///../data/database/car_data.duckdb&#x27;</span>"
      ],
      "text/plain": [
       "Running query in 'duckdb:///../data/database/car_data.duckdb'"
      ]
     },
     "metadata": {},
     "output_type": "display_data"
    }
   ],
   "source": [
    "makes = %sql select DISTINCT(make) from all_vehicles\n",
    "makes = [m[0] for m in makes]"
   ]
  },
  {
   "cell_type": "code",
   "execution_count": 5,
   "metadata": {},
   "outputs": [
    {
     "data": {
      "text/html": [
       "<span style=\"None\">Running query in &#x27;duckdb:///../data/database/car_data.duckdb&#x27;</span>"
      ],
      "text/plain": [
       "Running query in 'duckdb:///../data/database/car_data.duckdb'"
      ]
     },
     "metadata": {},
     "output_type": "display_data"
    }
   ],
   "source": [
    "classes = %sql select DISTINCT(vehicle_class) from all_vehicles\n",
    "classes = [c[0] for c in classes]"
   ]
  },
  {
   "cell_type": "code",
   "execution_count": 6,
   "metadata": {},
   "outputs": [
    {
     "data": {
      "text/html": [
       "<span style=\"None\">Running query in &#x27;duckdb:///../data/database/car_data.duckdb&#x27;</span>"
      ],
      "text/plain": [
       "Running query in 'duckdb:///../data/database/car_data.duckdb'"
      ]
     },
     "metadata": {},
     "output_type": "display_data"
    }
   ],
   "source": [
    "co2 = %sql select DISTINCT(co2_rating) from all_vehicles where co2_rating is not null\n",
    "co2 = [c[0] for c in co2]\n",
    "# convert to int\n",
    "co2 = [int(c) for c in co2]"
   ]
  },
  {
   "cell_type": "code",
   "execution_count": 7,
   "metadata": {},
   "outputs": [
    {
     "data": {
      "text/html": [
       "<span style=\"None\">Running query in &#x27;duckdb:///../data/database/car_data.duckdb&#x27;</span>"
      ],
      "text/plain": [
       "Running query in 'duckdb:///../data/database/car_data.duckdb'"
      ]
     },
     "metadata": {},
     "output_type": "display_data"
    }
   ],
   "source": [
    "vehicle_type = %sql select DISTINCT(vehicle_type) from all_vehicles\n",
    "vehicle_type = [v[0] for v in vehicle_type]"
   ]
  },
  {
   "cell_type": "markdown",
   "metadata": {},
   "source": [
    "## Interactive Table\n",
    "> Multiple values for Vehcile Class can be selected with shift and/or ctrl (or command) pressed and mouse clicks or arrow keys."
   ]
  },
  {
   "cell_type": "code",
   "execution_count": 8,
   "metadata": {},
   "outputs": [
    {
     "data": {
      "application/vnd.jupyter.widget-view+json": {
       "model_id": "c713358eb856471ba6e44b278c5c70c9",
       "version_major": 2,
       "version_minor": 0
      },
      "text/plain": [
       "Tab(children=(VBox(children=(HBox(children=(Dropdown(description='Vehicle type', index=2, options=('electric',…"
      ]
     },
     "metadata": {},
     "output_type": "display_data"
    },
    {
     "data": {
      "application/vnd.jupyter.widget-view+json": {
       "model_id": "5d2bbf620efa4326a775919f8d2613d3",
       "version_major": 2,
       "version_minor": 0
      },
      "text/plain": [
       "Output()"
      ]
     },
     "metadata": {},
     "output_type": "display_data"
    }
   ],
   "source": [
    "def select_table_electric(vehicle_type, year, vehicle_class, make, co2):\n",
    "    \"\"\"\n",
    "    Select table based on vehicle type\n",
    "    \n",
    "    Parameters\n",
    "    ----------\n",
    "    vehicle_type : str\n",
    "        Vehicle type (fuel-only, hybrid, or electric)\n",
    "    year : int\n",
    "        Model year\n",
    "    vehicle_class : list\n",
    "        Vehicle class (compact, midsize, etc.)\n",
    "    make : str\n",
    "        Car manufacturer\n",
    "    co2 : int\n",
    "        CO2 rating (higher rating suggests lower CO2 emissions)\n",
    "    \"\"\"\n",
    "    print(\"Performaing query\")\n",
    "    query = select_table(vehicle_type, year, vehicle_class, make, co2)\n",
    "\n",
    "    # Use JupySQL magic to execute the query\n",
    "    result = %sql {{query}}\n",
    "\n",
    "    # Convert the result to a Pandas DataFrame\n",
    "    df = result.DataFrame()\n",
    "\n",
    "    clear_output(wait=True)\n",
    "\n",
    "    show(df, classes=\"display nowrap compact\")\n",
    "\n",
    "(\n",
    "    widget_vehicle_type,\n",
    "    widget_year,\n",
    "    widget_make,\n",
    "    widget_vehicle_class,\n",
    "    widget_co2,\n",
    ") = init_widgets(years, makes, classes, vehicle_type, style)\n",
    "\n",
    "tab = setup_menu(\n",
    "    widget_vehicle_type, widget_year, widget_vehicle_class, widget_make, widget_co2\n",
    ")\n",
    "\n",
    "output = interactive_output(\n",
    "    select_table_electric,\n",
    "    {\n",
    "        \"vehicle_type\": widget_vehicle_type,\n",
    "        \"year\": widget_year,\n",
    "        \"vehicle_class\": widget_vehicle_class,\n",
    "        \"make\": widget_make,\n",
    "        \"co2\": widget_co2,\n",
    "    },\n",
    ")\n",
    "\n",
    "display(tab, output)"
   ]
  },
  {
   "cell_type": "markdown",
   "metadata": {},
   "source": [
    "## Plots"
   ]
  },
  {
   "cell_type": "markdown",
   "metadata": {},
   "source": [
    "This dashboard contains 5 plots, created using the `ggplot` API, `seaborn`, and `ipywidgets`:\n",
    "\n",
    "1. Bar Plot of Car Manufacturing Trends\n",
    "2. Boxplot of Fuel Consumption and GHG emissions for All Vehicle Types\n",
    "3. Scatter Plot of Electric Vehicle Ranges and Charging Time by Car Size and Model Year\n",
    "4. Histogram of GHG emissions by Vehicle and Fuel Type\n",
    "5. GHG emissions of Hybrid and Fuel-Only US Car Brands by Transmission Type"
   ]
  },
  {
   "cell_type": "markdown",
   "metadata": {},
   "source": [
    "## Bar plot of car manufacturing trends"
   ]
  },
  {
   "cell_type": "markdown",
   "metadata": {},
   "source": []
  }
 ],
 "metadata": {
  "kernelspec": {
   "display_name": "sql-course",
   "language": "python",
   "name": "sql-course"
  },
  "language_info": {
   "codemirror_mode": {
    "name": "ipython",
    "version": 3
   },
   "file_extension": ".py",
   "mimetype": "text/x-python",
   "name": "python",
   "nbconvert_exporter": "python",
   "pygments_lexer": "ipython3",
   "version": "3.11.6"
  }
 },
 "nbformat": 4,
 "nbformat_minor": 2
}
