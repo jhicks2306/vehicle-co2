{
 "cells": [
  {
   "cell_type": "code",
   "execution_count": 24,
   "metadata": {},
   "outputs": [],
   "source": [
    "import ipywidgets as widgets\n",
    "from ipywidgets import interactive_output, interact\n",
    "from menu import init_widgets, style, setup_menu, select_table\n",
    "from dashboard import (\n",
    "    Seaborn_Barplot,\n",
    "    Seaborn_Boxplot,\n",
    "    Seaborn_Scatter,\n",
    "    Boxplot_ggplot,\n",
    "    Histogram_ggplot,\n",
    ")\n",
    "from IPython.display import display, clear_output\n",
    "import pandas as pd\n",
    "import numpy as np\n",
    "from itables import init_notebook_mode, show"
   ]
  },
  {
   "cell_type": "code",
   "execution_count": 25,
   "metadata": {},
   "outputs": [
    {
     "name": "stdout",
     "output_type": "stream",
     "text": [
      "The sql extension is already loaded. To reload it, use:\n",
      "  %reload_ext sql\n"
     ]
    }
   ],
   "source": [
    "%load_ext sql\n",
    "\n",
    "%sql duckdb:///../data/database/car_data.duckdb\n",
    "\n",
    "# %config SqlMagic = False"
   ]
  },
  {
   "cell_type": "code",
   "execution_count": 26,
   "metadata": {},
   "outputs": [
    {
     "data": {
      "text/html": [
       "<span style=\"None\">Running query in &#x27;duckdb:///../data/database/car_data.duckdb&#x27;</span>"
      ],
      "text/plain": [
       "Running query in 'duckdb:///../data/database/car_data.duckdb'"
      ]
     },
     "metadata": {},
     "output_type": "display_data"
    }
   ],
   "source": [
    "years = %sql select DISTINCT(model_year) from all_vehicles\n",
    "years = tuple([model_year[0] for model_year in years])"
   ]
  },
  {
   "cell_type": "code",
   "execution_count": 27,
   "metadata": {},
   "outputs": [
    {
     "data": {
      "text/html": [
       "<span style=\"None\">Running query in &#x27;duckdb:///../data/database/car_data.duckdb&#x27;</span>"
      ],
      "text/plain": [
       "Running query in 'duckdb:///../data/database/car_data.duckdb'"
      ]
     },
     "metadata": {},
     "output_type": "display_data"
    }
   ],
   "source": [
    "makes = %sql select DISTINCT(make) from all_vehicles\n",
    "makes = [m[0] for m in makes]"
   ]
  },
  {
   "cell_type": "code",
   "execution_count": 28,
   "metadata": {},
   "outputs": [
    {
     "data": {
      "text/html": [
       "<span style=\"None\">Running query in &#x27;duckdb:///../data/database/car_data.duckdb&#x27;</span>"
      ],
      "text/plain": [
       "Running query in 'duckdb:///../data/database/car_data.duckdb'"
      ]
     },
     "metadata": {},
     "output_type": "display_data"
    }
   ],
   "source": [
    "classes = %sql select DISTINCT(vehicle_class) from all_vehicles\n",
    "classes = [c[0] for c in classes]"
   ]
  },
  {
   "cell_type": "code",
   "execution_count": 29,
   "metadata": {},
   "outputs": [
    {
     "data": {
      "text/html": [
       "<span style=\"None\">Running query in &#x27;duckdb:///../data/database/car_data.duckdb&#x27;</span>"
      ],
      "text/plain": [
       "Running query in 'duckdb:///../data/database/car_data.duckdb'"
      ]
     },
     "metadata": {},
     "output_type": "display_data"
    }
   ],
   "source": [
    "co2 = %sql select DISTINCT(co2_rating) from all_vehicles where co2_rating is not null\n",
    "co2 = [c[0] for c in co2]\n",
    "# convert to int\n",
    "co2 = [int(c) for c in co2]"
   ]
  },
  {
   "cell_type": "code",
   "execution_count": 30,
   "metadata": {},
   "outputs": [
    {
     "data": {
      "text/html": [
       "<span style=\"None\">Running query in &#x27;duckdb:///../data/database/car_data.duckdb&#x27;</span>"
      ],
      "text/plain": [
       "Running query in 'duckdb:///../data/database/car_data.duckdb'"
      ]
     },
     "metadata": {},
     "output_type": "display_data"
    }
   ],
   "source": [
    "vehicle_type = %sql select DISTINCT(vehicle_type) from all_vehicles\n",
    "vehicle_type = [v[0] for v in vehicle_type]"
   ]
  },
  {
   "cell_type": "markdown",
   "metadata": {},
   "source": [
    "## Interactive Table\n",
    "> Multiple values for Vehcile Class can be selected with shift and/or ctrl (or command) pressed and mouse clicks or arrow keys."
   ]
  },
  {
   "cell_type": "code",
   "execution_count": 31,
   "metadata": {},
   "outputs": [
    {
     "data": {
      "application/vnd.jupyter.widget-view+json": {
       "model_id": "ea09e66260274cc294e9759fd8fbfa48",
       "version_major": 2,
       "version_minor": 0
      },
      "text/plain": [
       "Tab(children=(VBox(children=(HBox(children=(Dropdown(description='Vehicle type', index=2, options=('electric',…"
      ]
     },
     "metadata": {},
     "output_type": "display_data"
    },
    {
     "data": {
      "application/vnd.jupyter.widget-view+json": {
       "model_id": "62cf2611a9d644ceb3cce09f2cb58133",
       "version_major": 2,
       "version_minor": 0
      },
      "text/plain": [
       "Output()"
      ]
     },
     "metadata": {},
     "output_type": "display_data"
    }
   ],
   "source": [
    "def select_table_electric(vehicle_type, year, vehicle_class, make, co2):\n",
    "    \"\"\"\n",
    "    Select table based on vehicle type\n",
    "    \n",
    "    Parameters\n",
    "    ----------\n",
    "    vehicle_type : str\n",
    "        Vehicle type (fuel-only, hybrid, or electric)\n",
    "    year : int\n",
    "        Model year\n",
    "    vehicle_class : list\n",
    "        Vehicle class (compact, midsize, etc.)\n",
    "    make : str\n",
    "        Car manufacturer\n",
    "    co2 : int\n",
    "        CO2 rating (higher rating suggests lower CO2 emissions)\n",
    "    \"\"\"\n",
    "    print(\"Performaing query\")\n",
    "    query = select_table(vehicle_type, year, vehicle_class, make, co2)\n",
    "\n",
    "    # Use JupySQL magic to execute the query\n",
    "    result = %sql {{query}}\n",
    "\n",
    "    # Convert the result to a Pandas DataFrame\n",
    "    df = result.DataFrame()\n",
    "\n",
    "    clear_output(wait=True)\n",
    "\n",
    "    show(df, classes=\"display nowrap compact\")\n",
    "\n",
    "(\n",
    "    widget_vehicle_type,\n",
    "    widget_year,\n",
    "    widget_make,\n",
    "    widget_vehicle_class,\n",
    "    widget_co2,\n",
    ") = init_widgets(years, makes, classes, vehicle_type, style)\n",
    "\n",
    "tab = setup_menu(\n",
    "    widget_vehicle_type, widget_year, widget_vehicle_class, widget_make, widget_co2\n",
    ")\n",
    "\n",
    "output = interactive_output(\n",
    "    select_table_electric,\n",
    "    {\n",
    "        \"vehicle_type\": widget_vehicle_type,\n",
    "        \"year\": widget_year,\n",
    "        \"vehicle_class\": widget_vehicle_class,\n",
    "        \"make\": widget_make,\n",
    "        \"co2\": widget_co2,\n",
    "    },\n",
    ")\n",
    "\n",
    "display(tab, output)"
   ]
  },
  {
   "cell_type": "markdown",
   "metadata": {},
   "source": [
    "## Plots"
   ]
  },
  {
   "cell_type": "markdown",
   "metadata": {},
   "source": [
    "This dashboard contains 5 plots, created using the `ggplot` API, `seaborn`, and `ipywidgets`:\n",
    "\n",
    "1. Bar Plot of Car Manufacturing Trends\n",
    "2. Boxplot of Fuel Consumption and GHG emissions for All Vehicle Types\n",
    "3. Scatter Plot of Electric Vehicle Ranges and Charging Time by Car Size and Model Year\n",
    "4. Histogram of GHG emissions by Vehicle and Fuel Type\n",
    "5. GHG emissions of Hybrid and Fuel-Only US Car Brands by Transmission Type"
   ]
  },
  {
   "cell_type": "markdown",
   "metadata": {},
   "source": [
    "## Bar plot of car manufacturing trends"
   ]
  },
  {
   "cell_type": "code",
   "execution_count": 32,
   "metadata": {},
   "outputs": [
    {
     "data": {
      "text/html": [
       "<span style=\"None\">Running query in &#x27;duckdb:///../data/database/car_data.duckdb&#x27;</span>"
      ],
      "text/plain": [
       "Running query in 'duckdb:///../data/database/car_data.duckdb'"
      ]
     },
     "metadata": {},
     "output_type": "display_data"
    },
    {
     "data": {
      "text/html": [
       "<span style=\"None\">Skipping execution...</span>"
      ],
      "text/plain": [
       "Skipping execution..."
      ]
     },
     "metadata": {},
     "output_type": "display_data"
    }
   ],
   "source": [
    "%%sql --save q_1_hybrid_electric --no-execute\n",
    "SELECT DISTINCT model_year, vehicle_type, COUNT(id) AS num_vehicles\n",
    "FROM all_vehicles\n",
    "WHERE vehicle_type = 'hybrid' OR vehicle_type = 'electric'\n",
    "GROUP BY model_year, vehicle_type\n",
    "ORDER BY num_vehicles DESC;"
   ]
  },
  {
   "cell_type": "code",
   "execution_count": 33,
   "metadata": {},
   "outputs": [
    {
     "data": {
      "text/html": [
       "<span style=\"None\">Running query in &#x27;duckdb:///../data/database/car_data.duckdb&#x27;</span>"
      ],
      "text/plain": [
       "Running query in 'duckdb:///../data/database/car_data.duckdb'"
      ]
     },
     "metadata": {},
     "output_type": "display_data"
    },
    {
     "data": {
      "text/html": [
       "<span style=\"None\">Skipping execution...</span>"
      ],
      "text/plain": [
       "Skipping execution..."
      ]
     },
     "metadata": {},
     "output_type": "display_data"
    }
   ],
   "source": [
    "%%sql --save q_1_fuel --no-execute\n",
    "SELECT DISTINCT model_year, vehicle_type, COUNT(id) AS num_vehicles\n",
    "FROM fuel\n",
    "GROUP BY model_year, vehicle_type\n",
    "ORDER BY model_year;"
   ]
  },
  {
   "cell_type": "code",
   "execution_count": 34,
   "metadata": {},
   "outputs": [
    {
     "data": {
      "text/html": [
       "<span style=\"None\">Generating CTE with stored snippets: &#x27;q_1_hybrid_electric&#x27;</span>"
      ],
      "text/plain": [
       "Generating CTE with stored snippets: 'q_1_hybrid_electric'"
      ]
     },
     "metadata": {},
     "output_type": "display_data"
    },
    {
     "data": {
      "text/html": [
       "<span style=\"None\">Running query in &#x27;duckdb:///../data/database/car_data.duckdb&#x27;</span>"
      ],
      "text/plain": [
       "Running query in 'duckdb:///../data/database/car_data.duckdb'"
      ]
     },
     "metadata": {},
     "output_type": "display_data"
    }
   ],
   "source": [
    "hybrid_electric_count = %sql SELECT * FROM q_1_hybrid_electric\n",
    "hybrid_electric_count = pd.DataFrame(hybrid_electric_count).sort_values(by=[\"model_year\"])"
   ]
  },
  {
   "cell_type": "code",
   "execution_count": 35,
   "metadata": {},
   "outputs": [
    {
     "data": {
      "text/html": [
       "<span style=\"None\">Generating CTE with stored snippets: &#x27;q_1_fuel&#x27;</span>"
      ],
      "text/plain": [
       "Generating CTE with stored snippets: 'q_1_fuel'"
      ]
     },
     "metadata": {},
     "output_type": "display_data"
    },
    {
     "data": {
      "text/html": [
       "<span style=\"None\">Running query in &#x27;duckdb:///../data/database/car_data.duckdb&#x27;</span>"
      ],
      "text/plain": [
       "Running query in 'duckdb:///../data/database/car_data.duckdb'"
      ]
     },
     "metadata": {},
     "output_type": "display_data"
    }
   ],
   "source": [
    "fuel_count = %sql SELECT * FROM q_1_fuel\n",
    "fuel_count = pd.DataFrame(fuel_count).sort_values(by=[\"model_year\"])"
   ]
  },
  {
   "cell_type": "code",
   "execution_count": 36,
   "metadata": {},
   "outputs": [
    {
     "data": {
      "application/vnd.jupyter.widget-view+json": {
       "model_id": "4fb97f7507a54dcdab4340ec948cdcb9",
       "version_major": 2,
       "version_minor": 0
      },
      "text/plain": [
       "interactive(children=(RadioButtons(description='Select data:', options=('fuel_count', 'hybrid_electric_count')…"
      ]
     },
     "metadata": {},
     "output_type": "display_data"
    }
   ],
   "source": [
    "barplot = Seaborn_Barplot(fuel_count, hybrid_electric_count)\n",
    "interact(barplot.draw_bar_year_count, data=barplot.radio_button);"
   ]
  },
  {
   "cell_type": "markdown",
   "metadata": {},
   "source": [
    "## Boxplot of consumption and CO2 emissions for all vehicle types"
   ]
  },
  {
   "cell_type": "code",
   "execution_count": 37,
   "metadata": {},
   "outputs": [
    {
     "data": {
      "text/html": [
       "<span style=\"None\">Running query in &#x27;duckdb:///../data/database/car_data.duckdb&#x27;</span>"
      ],
      "text/plain": [
       "Running query in 'duckdb:///../data/database/car_data.duckdb'"
      ]
     },
     "metadata": {},
     "output_type": "display_data"
    },
    {
     "data": {
      "text/html": [
       "<span style=\"None\">Skipping execution...</span>"
      ],
      "text/plain": [
       "Skipping execution..."
      ]
     },
     "metadata": {},
     "output_type": "display_data"
    }
   ],
   "source": [
    "%%sql --save boxplot_fuel_consum --no-execute\n",
    "SELECT consumption_city_l_100_km::FLOAT as consumption_city_l_100_km, consumption_hwy_l_100_km::FLOAT as consumption_hwy_l_100_km, consumption_comb_l_100_km::FLOAT as consumption_comb_l_100_km, co2_emissions_g_km::FLOAT as co2_emissions_g_km\n",
    "FROM all_vehicles"
   ]
  },
  {
   "cell_type": "code",
   "execution_count": 38,
   "metadata": {},
   "outputs": [
    {
     "data": {
      "application/vnd.jupyter.widget-view+json": {
       "model_id": "f15c32a8ec82499c838eaceeeb265926",
       "version_major": 2,
       "version_minor": 0
      },
      "text/plain": [
       "interactive(children=(SelectMultiple(description='Column(s):', index=(1,), options=('consumption_city_l_100_km…"
      ]
     },
     "metadata": {},
     "output_type": "display_data"
    }
   ],
   "source": [
    "boxplot = Boxplot_ggplot()\n",
    "interact(boxplot.fuel_co2_boxplot, columns=boxplot.selection_button);"
   ]
  },
  {
   "cell_type": "markdown",
   "metadata": {},
   "source": [
    "##  Scatter plot of electric vehicle ranges and charging time by car size and model year"
   ]
  },
  {
   "cell_type": "code",
   "execution_count": 39,
   "metadata": {},
   "outputs": [
    {
     "data": {
      "text/html": [
       "<span style=\"None\">Running query in &#x27;duckdb:///../data/database/car_data.duckdb&#x27;</span>"
      ],
      "text/plain": [
       "Running query in 'duckdb:///../data/database/car_data.duckdb'"
      ]
     },
     "metadata": {},
     "output_type": "display_data"
    },
    {
     "data": {
      "text/html": [
       "<span style=\"None\">Skipping execution...</span>"
      ],
      "text/plain": [
       "Skipping execution..."
      ]
     },
     "metadata": {},
     "output_type": "display_data"
    }
   ],
   "source": [
    "%%sql --save electric_range_charge --no-execute\n",
    "SELECT range_km, recharge_time_h, vehicle_class, model_year\n",
    "FROM electric"
   ]
  },
  {
   "cell_type": "code",
   "execution_count": 40,
   "metadata": {},
   "outputs": [],
   "source": [
    "def clean_electric_columns(electric_range):\n",
    "    electric_range[\"model_year\"] = electric_range[\"model_year\"].astype(int)\n",
    "\n",
    "    electric_range[\"vehicle_size\"] = np.where(electric_range[\"vehicle_class\"].isin(\n",
    "        [\"subcompact\", \"compact\", \"mid-size\", \"full-size\", \"two-seater\"]\n",
    "    ),\n",
    "    \"Sedan or smaller\",\n",
    "    \"SUV or larger\")\n",
    "\n",
    "    electric_range[\"model_year_grouped\"] = np.where(electric_range[\"model_year\"] <= 2021, \"2012-2021\", \"2022-2023\")\n",
    "\n",
    "    return electric_range\n"
   ]
  },
  {
   "cell_type": "code",
   "execution_count": 41,
   "metadata": {},
   "outputs": [
    {
     "data": {
      "text/html": [
       "<span style=\"None\">Generating CTE with stored snippets: &#x27;electric_range_charge&#x27;</span>"
      ],
      "text/plain": [
       "Generating CTE with stored snippets: 'electric_range_charge'"
      ]
     },
     "metadata": {},
     "output_type": "display_data"
    },
    {
     "data": {
      "text/html": [
       "<span style=\"None\">Running query in &#x27;duckdb:///../data/database/car_data.duckdb&#x27;</span>"
      ],
      "text/plain": [
       "Running query in 'duckdb:///../data/database/car_data.duckdb'"
      ]
     },
     "metadata": {},
     "output_type": "display_data"
    }
   ],
   "source": [
    "electric_range = %sql SELECT * FROM electric_range_charge\n",
    "\n",
    "electric_range = pd.DataFrame(electric_range)\n",
    "\n",
    "electric_range = clean_electric_columns(electric_range)"
   ]
  },
  {
   "cell_type": "code",
   "execution_count": 42,
   "metadata": {},
   "outputs": [
    {
     "data": {
      "application/vnd.jupyter.widget-view+json": {
       "model_id": "d12f339c423741a8aba4ce4c1c3f87ec",
       "version_major": 2,
       "version_minor": 0
      },
      "text/plain": [
       "interactive(children=(Dropdown(description='(Un)select hue:', options=('vehicle_size', 'model_year_grouped', N…"
      ]
     },
     "metadata": {},
     "output_type": "display_data"
    }
   ],
   "source": [
    "scatter = Seaborn_Scatter(electric_range)\n",
    "interact(scatter.draw_scatter_electric_range, hue=scatter.dropdown);"
   ]
  },
  {
   "cell_type": "markdown",
   "metadata": {},
   "source": [
    "## Histogram of CO2 emissions by vehcile and fuel type"
   ]
  },
  {
   "cell_type": "code",
   "execution_count": 45,
   "metadata": {},
   "outputs": [
    {
     "data": {
      "text/html": [
       "<span style=\"None\">Running query in &#x27;duckdb:///../data/database/car_data.duckdb&#x27;</span>"
      ],
      "text/plain": [
       "Running query in 'duckdb:///../data/database/car_data.duckdb'"
      ]
     },
     "metadata": {},
     "output_type": "display_data"
    },
    {
     "data": {
      "text/html": [
       "<span style=\"None\">Skipping execution...</span>"
      ],
      "text/plain": [
       "Skipping execution..."
      ]
     },
     "metadata": {},
     "output_type": "display_data"
    }
   ],
   "source": [
    "%%sql --save hist_co2 --no-execute\n",
    "SELECT vehicle_type, fuel_type, co2_emissions_g_km::INTEGER as co2_emissions_g_km\n",
    "FROM all_vehicles\n",
    "WHERE co2_emissions_g_km is not null"
   ]
  },
  {
   "cell_type": "code",
   "execution_count": 46,
   "metadata": {},
   "outputs": [
    {
     "data": {
      "application/vnd.jupyter.widget-view+json": {
       "model_id": "41171a04949a4d1281bb034b5cfd6c42",
       "version_major": 2,
       "version_minor": 0
      },
      "text/plain": [
       "interactive(children=(IntSlider(value=10, description='Bins:', max=20, min=1), Dropdown(description='Colormap:…"
      ]
     },
     "metadata": {},
     "output_type": "display_data"
    }
   ],
   "source": [
    "histogram = Histogram_ggplot()\n",
    "interact(\n",
    "    histogram.co2_histogram,\n",
    "    b=histogram.intslider,\n",
    "    cmap=histogram.dropdown,\n",
    "    fill=histogram.radio_button,\n",
    ");"
   ]
  },
  {
   "cell_type": "markdown",
   "metadata": {},
   "source": [
    "## CO2 emissions of hybrid and fuel-only US car brands by transmission type"
   ]
  },
  {
   "cell_type": "code",
   "execution_count": 53,
   "metadata": {},
   "outputs": [
    {
     "data": {
      "text/html": [
       "<span style=\"None\">Running query in &#x27;duckdb:///../data/database/car_data.duckdb&#x27;</span>"
      ],
      "text/plain": [
       "Running query in 'duckdb:///../data/database/car_data.duckdb'"
      ]
     },
     "metadata": {},
     "output_type": "display_data"
    },
    {
     "data": {
      "text/html": [
       "<table>\n",
       "    <thead>\n",
       "        <tr>\n",
       "            <th>vehicle_type</th>\n",
       "            <th>make</th>\n",
       "            <th>co2_emissions_g_km</th>\n",
       "            <th>transmission_type</th>\n",
       "        </tr>\n",
       "    </thead>\n",
       "    <tbody>\n",
       "        <tr>\n",
       "            <td>fuel-only</td>\n",
       "            <td>cadillac</td>\n",
       "            <td>206.0</td>\n",
       "            <td>automatic with select Shift</td>\n",
       "        </tr>\n",
       "        <tr>\n",
       "            <td>fuel-only</td>\n",
       "            <td>cadillac</td>\n",
       "            <td>221.0</td>\n",
       "            <td>automatic with select Shift</td>\n",
       "        </tr>\n",
       "        <tr>\n",
       "            <td>fuel-only</td>\n",
       "            <td>cadillac</td>\n",
       "            <td>216.0</td>\n",
       "            <td>automatic with select Shift</td>\n",
       "        </tr>\n",
       "        <tr>\n",
       "            <td>fuel-only</td>\n",
       "            <td>cadillac</td>\n",
       "            <td>231.0</td>\n",
       "            <td>automatic with select Shift</td>\n",
       "        </tr>\n",
       "        <tr>\n",
       "            <td>fuel-only</td>\n",
       "            <td>cadillac</td>\n",
       "            <td>239.0</td>\n",
       "            <td>automatic with select Shift</td>\n",
       "        </tr>\n",
       "        <tr>\n",
       "            <td>fuel-only</td>\n",
       "            <td>cadillac</td>\n",
       "            <td>244.0</td>\n",
       "            <td>automatic with select Shift</td>\n",
       "        </tr>\n",
       "        <tr>\n",
       "            <td>fuel-only</td>\n",
       "            <td>cadillac</td>\n",
       "            <td>297.0</td>\n",
       "            <td>automatic with select Shift</td>\n",
       "        </tr>\n",
       "        <tr>\n",
       "            <td>fuel-only</td>\n",
       "            <td>cadillac</td>\n",
       "            <td>303.0</td>\n",
       "            <td>manual</td>\n",
       "        </tr>\n",
       "        <tr>\n",
       "            <td>fuel-only</td>\n",
       "            <td>cadillac</td>\n",
       "            <td>207.0</td>\n",
       "            <td>automatic with select Shift</td>\n",
       "        </tr>\n",
       "        <tr>\n",
       "            <td>fuel-only</td>\n",
       "            <td>cadillac</td>\n",
       "            <td>252.0</td>\n",
       "            <td>automatic with select Shift</td>\n",
       "        </tr>\n",
       "    </tbody>\n",
       "</table>\n",
       "<span style=\"font-style:italic;text-align:center;\">Truncated to <a href=\"https://jupysql.ploomber.io/en/latest/api/configuration.html#displaylimit\">displaylimit</a> of 10.</span>"
      ],
      "text/plain": [
       "+--------------+----------+--------------------+-----------------------------+\n",
       "| vehicle_type |   make   | co2_emissions_g_km |      transmission_type      |\n",
       "+--------------+----------+--------------------+-----------------------------+\n",
       "|  fuel-only   | cadillac |       206.0        | automatic with select Shift |\n",
       "|  fuel-only   | cadillac |       221.0        | automatic with select Shift |\n",
       "|  fuel-only   | cadillac |       216.0        | automatic with select Shift |\n",
       "|  fuel-only   | cadillac |       231.0        | automatic with select Shift |\n",
       "|  fuel-only   | cadillac |       239.0        | automatic with select Shift |\n",
       "|  fuel-only   | cadillac |       244.0        | automatic with select Shift |\n",
       "|  fuel-only   | cadillac |       297.0        | automatic with select Shift |\n",
       "|  fuel-only   | cadillac |       303.0        |            manual           |\n",
       "|  fuel-only   | cadillac |       207.0        | automatic with select Shift |\n",
       "|  fuel-only   | cadillac |       252.0        | automatic with select Shift |\n",
       "+--------------+----------+--------------------+-----------------------------+\n",
       "Truncated to displaylimit of 10."
      ]
     },
     "execution_count": 53,
     "metadata": {},
     "output_type": "execute_result"
    }
   ],
   "source": [
    "%%sql --save co2_usa --no_execute\n",
    "SELECT vehicle_type, make, co2_emissions_g_km, transmission_type\n",
    "FROM all_vehicles\n",
    "WHERE co2_emissions_g_km IS NOT null AND\n",
    "vehicle_type IN ('fuel-only', 'hybrid') AND\n",
    "make IN ('cadillac', 'chevrolet', 'chrysler', 'ford', 'jeep', 'lincoln')"
   ]
  },
  {
   "cell_type": "code",
   "execution_count": 55,
   "metadata": {},
   "outputs": [
    {
     "data": {
      "text/html": [
       "<span style=\"None\">Generating CTE with stored snippets: &#x27;co2_usa&#x27;</span>"
      ],
      "text/plain": [
       "Generating CTE with stored snippets: 'co2_usa'"
      ]
     },
     "metadata": {},
     "output_type": "display_data"
    },
    {
     "data": {
      "text/html": [
       "<span style=\"None\">Running query in &#x27;duckdb:///../data/database/car_data.duckdb&#x27;</span>"
      ],
      "text/plain": [
       "Running query in 'duckdb:///../data/database/car_data.duckdb'"
      ]
     },
     "metadata": {},
     "output_type": "display_data"
    }
   ],
   "source": [
    "co2_usa = %sql SELECT * FROM co2_usa\n",
    "co2_usa = pd.DataFrame(co2_usa)"
   ]
  },
  {
   "cell_type": "code",
   "execution_count": 57,
   "metadata": {},
   "outputs": [
    {
     "data": {
      "application/vnd.jupyter.widget-view+json": {
       "model_id": "e71f871e80d14a98b0207d49af1c5c1d",
       "version_major": 2,
       "version_minor": 0
      },
      "text/plain": [
       "interactive(children=(Dropdown(description='(Un)select hue:', options=('vehicle_type', 'transmission_type', No…"
      ]
     },
     "metadata": {},
     "output_type": "display_data"
    }
   ],
   "source": [
    "boxplot = Seaborn_Boxplot(co2_usa)\n",
    "interact(boxplot.draw_boxplot_usa, hue=boxplot.dropdown);"
   ]
  }
 ],
 "metadata": {
  "kernelspec": {
   "display_name": "sql-course",
   "language": "python",
   "name": "sql-course"
  },
  "language_info": {
   "codemirror_mode": {
    "name": "ipython",
    "version": 3
   },
   "file_extension": ".py",
   "mimetype": "text/x-python",
   "name": "python",
   "nbconvert_exporter": "python",
   "pygments_lexer": "ipython3",
   "version": "3.11.6"
  }
 },
 "nbformat": 4,
 "nbformat_minor": 2
}
