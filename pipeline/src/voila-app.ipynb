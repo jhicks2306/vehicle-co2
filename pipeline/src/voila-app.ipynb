{
 "cells": [
  {
   "cell_type": "code",
   "execution_count": 83,
   "metadata": {},
   "outputs": [],
   "source": [
    "import ipywidgets as widgets\n",
    "from ipywidgets import interactive_output, interact\n",
    "from menu import init_widgets, style, setup_menu, select_table\n",
    "from dashboard import (\n",
    "    Seaborn_Barplot,\n",
    "    Seaborn_Boxplot,\n",
    "    Seaborn_Scatter,\n",
    "    Boxplot_ggplot,\n",
    "    Histogram_ggplot,\n",
    ")\n",
    "from IPython.display import display, clear_output\n",
    "import pandas as pd\n",
    "import numpy as np\n",
    "from itables import init_notebook_mode, show"
   ]
  },
  {
   "cell_type": "code",
   "execution_count": 84,
   "metadata": {},
   "outputs": [],
   "source": [
    "%%capture\n",
    "\n",
    "%load_ext sql\n",
    "\n",
    "%sql duckdb:///../data/database/car_data.duckdb\n",
    "\n",
    "%config SqlMagic.displaycon = False"
   ]
  },
  {
   "cell_type": "code",
   "execution_count": 85,
   "metadata": {},
   "outputs": [],
   "source": [
    "years = %sql select DISTINCT(model_year) from all_vehicles\n",
    "years = tuple([model_year[0] for model_year in years])"
   ]
  },
  {
   "cell_type": "code",
   "execution_count": 86,
   "metadata": {},
   "outputs": [],
   "source": [
    "makes = %sql select DISTINCT(make) from all_vehicles\n",
    "makes = [m[0] for m in makes]"
   ]
  },
  {
   "cell_type": "code",
   "execution_count": 87,
   "metadata": {},
   "outputs": [],
   "source": [
    "classes = %sql select DISTINCT(vehicle_class) from all_vehicles\n",
    "classes = [c[0] for c in classes]"
   ]
  },
  {
   "cell_type": "code",
   "execution_count": 88,
   "metadata": {},
   "outputs": [],
   "source": [
    "co2 = %sql select DISTINCT(co2_rating) from all_vehicles where co2_rating is not null\n",
    "co2 = [c[0] for c in co2]\n",
    "# convert to int\n",
    "co2 = [int(c) for c in co2]"
   ]
  },
  {
   "cell_type": "code",
   "execution_count": 89,
   "metadata": {},
   "outputs": [],
   "source": [
    "vehicle_type = %sql select DISTINCT(vehicle_type) from all_vehicles\n",
    "vehicle_type = [v[0] for v in vehicle_type]"
   ]
  },
  {
   "cell_type": "markdown",
   "metadata": {},
   "source": [
    "## Interactive Table\n",
    "> Multiple values for Vehcile Class can be selected with shift and/or ctrl (or command) pressed and mouse clicks or arrow keys."
   ]
  },
  {
   "cell_type": "code",
   "execution_count": 90,
   "metadata": {},
   "outputs": [
    {
     "data": {
      "application/vnd.jupyter.widget-view+json": {
       "model_id": "60cf8885432749d0b780f94e1f1bd60f",
       "version_major": 2,
       "version_minor": 0
      },
      "text/plain": [
       "Tab(children=(VBox(children=(HBox(children=(Dropdown(description='Vehicle type', index=2, options=('electric',…"
      ]
     },
     "metadata": {},
     "output_type": "display_data"
    },
    {
     "data": {
      "application/vnd.jupyter.widget-view+json": {
       "model_id": "c8b5b53771794057aff8b233582328f1",
       "version_major": 2,
       "version_minor": 0
      },
      "text/plain": [
       "Output()"
      ]
     },
     "metadata": {},
     "output_type": "display_data"
    }
   ],
   "source": [
    "def select_table_electric(vehicle_type, year, vehicle_class, make, co2):\n",
    "    \"\"\"\n",
    "    Select table based on vehicle type\n",
    "    \n",
    "    Parameters\n",
    "    ----------\n",
    "    vehicle_type : str\n",
    "        Vehicle type (fuel-only, hybrid, or electric)\n",
    "    year : int\n",
    "        Model year\n",
    "    vehicle_class : list\n",
    "        Vehicle class (compact, midsize, etc.)\n",
    "    make : str\n",
    "        Car manufacturer\n",
    "    co2 : int\n",
    "        CO2 rating (higher rating suggests lower CO2 emissions)\n",
    "    \"\"\"\n",
    "    print(\"Performaing query\")\n",
    "    query = select_table(vehicle_type, year, vehicle_class, make, co2)\n",
    "\n",
    "    # Use JupySQL magic to execute the query\n",
    "    result = %sql {{query}}\n",
    "\n",
    "    # Convert the result to a Pandas DataFrame\n",
    "    df = result.DataFrame()\n",
    "\n",
    "    clear_output(wait=True)\n",
    "\n",
    "    show(df, classes=\"display nowrap compact\")\n",
    "\n",
    "(\n",
    "    widget_vehicle_type,\n",
    "    widget_year,\n",
    "    widget_make,\n",
    "    widget_vehicle_class,\n",
    "    widget_co2,\n",
    ") = init_widgets(years, makes, classes, vehicle_type, style)\n",
    "\n",
    "tab = setup_menu(\n",
    "    widget_vehicle_type, widget_year, widget_vehicle_class, widget_make, widget_co2\n",
    ")\n",
    "\n",
    "output = interactive_output(\n",
    "    select_table_electric,\n",
    "    {\n",
    "        \"vehicle_type\": widget_vehicle_type,\n",
    "        \"year\": widget_year,\n",
    "        \"vehicle_class\": widget_vehicle_class,\n",
    "        \"make\": widget_make,\n",
    "        \"co2\": widget_co2,\n",
    "    },\n",
    ")\n",
    "\n",
    "display(tab, output)"
   ]
  },
  {
   "cell_type": "markdown",
   "metadata": {},
   "source": [
    "## Plots"
   ]
  },
  {
   "cell_type": "markdown",
   "metadata": {},
   "source": [
    "This dashboard contains 5 plots, created using the `ggplot` API, `seaborn`, and `ipywidgets`:\n",
    "\n",
    "1. Bar Plot of Car Manufacturing Trends\n",
    "2. Boxplot of Fuel Consumption and GHG emissions for All Vehicle Types\n",
    "3. Scatter Plot of Electric Vehicle Ranges and Charging Time by Car Size and Model Year\n",
    "4. Histogram of GHG emissions by Vehicle and Fuel Type\n",
    "5. GHG emissions of Hybrid and Fuel-Only US Car Brands by Transmission Type"
   ]
  },
  {
   "cell_type": "markdown",
   "metadata": {},
   "source": [
    "## Bar plot of car manufacturing trends"
   ]
  },
  {
   "cell_type": "code",
   "execution_count": 91,
   "metadata": {},
   "outputs": [],
   "source": [
    "%%capture\n",
    "\n",
    "%%sql --save q_1_hybrid_electric --no-execute\n",
    "SELECT DISTINCT model_year, vehicle_type, COUNT(id) AS num_vehicles\n",
    "FROM all_vehicles\n",
    "WHERE vehicle_type = 'hybrid' OR vehicle_type = 'electric'\n",
    "GROUP BY model_year, vehicle_type\n",
    "ORDER BY num_vehicles DESC;"
   ]
  },
  {
   "cell_type": "code",
   "execution_count": 92,
   "metadata": {},
   "outputs": [],
   "source": [
    "%%capture\n",
    "\n",
    "%%sql --save q_1_fuel --no-execute\n",
    "SELECT DISTINCT model_year, vehicle_type, COUNT(id) AS num_vehicles\n",
    "FROM fuel\n",
    "GROUP BY model_year, vehicle_type\n",
    "ORDER BY model_year;"
   ]
  },
  {
   "cell_type": "code",
   "execution_count": 93,
   "metadata": {},
   "outputs": [],
   "source": [
    "%%capture\n",
    "\n",
    "hybrid_electric_count = %sql SELECT * FROM q_1_hybrid_electric\n",
    "hybrid_electric_count = pd.DataFrame(hybrid_electric_count).sort_values(by=[\"model_year\"])"
   ]
  },
  {
   "cell_type": "code",
   "execution_count": 94,
   "metadata": {},
   "outputs": [],
   "source": [
    "%%capture\n",
    "\n",
    "fuel_count = %sql SELECT * FROM q_1_fuel\n",
    "fuel_count = pd.DataFrame(fuel_count).sort_values(by=[\"model_year\"])"
   ]
  },
  {
   "cell_type": "code",
   "execution_count": 95,
   "metadata": {},
   "outputs": [],
   "source": [
    "%%capture\n",
    "\n",
    "barplot = Seaborn_Barplot(fuel_count, hybrid_electric_count)\n",
    "interact(barplot.draw_bar_year_count, data=barplot.radio_button);"
   ]
  },
  {
   "cell_type": "markdown",
   "metadata": {},
   "source": [
    "## Boxplot of consumption and CO2 emissions for all vehicle types"
   ]
  },
  {
   "cell_type": "code",
   "execution_count": 96,
   "metadata": {},
   "outputs": [],
   "source": [
    "%%capture\n",
    "\n",
    "%%sql --save boxplot_fuel_consum --no-execute\n",
    "SELECT consumption_city_l_100_km::FLOAT as consumption_city_l_100_km, consumption_hwy_l_100_km::FLOAT as consumption_hwy_l_100_km, consumption_comb_l_100_km::FLOAT as consumption_comb_l_100_km, co2_emissions_g_km::FLOAT as co2_emissions_g_km\n",
    "FROM all_vehicles"
   ]
  },
  {
   "cell_type": "code",
   "execution_count": 97,
   "metadata": {},
   "outputs": [
    {
     "data": {
      "application/vnd.jupyter.widget-view+json": {
       "model_id": "476c8968219b4d49938fb28ddf6d0b2d",
       "version_major": 2,
       "version_minor": 0
      },
      "text/plain": [
       "interactive(children=(SelectMultiple(description='Column(s):', index=(1,), options=('consumption_city_l_100_km…"
      ]
     },
     "metadata": {},
     "output_type": "display_data"
    }
   ],
   "source": [
    "boxplot = Boxplot_ggplot()\n",
    "interact(boxplot.fuel_co2_boxplot, columns=boxplot.selection_button);"
   ]
  },
  {
   "cell_type": "markdown",
   "metadata": {},
   "source": [
    "##  Scatter plot of electric vehicle ranges and charging time by car size and model year"
   ]
  },
  {
   "cell_type": "code",
   "execution_count": 98,
   "metadata": {},
   "outputs": [],
   "source": [
    "%%capture\n",
    "\n",
    "%%sql --save electric_range_charge --no-execute\n",
    "SELECT range_km, recharge_time_h, vehicle_class, model_year\n",
    "FROM electric"
   ]
  },
  {
   "cell_type": "code",
   "execution_count": 99,
   "metadata": {},
   "outputs": [],
   "source": [
    "def clean_electric_columns(electric_range):\n",
    "    electric_range[\"model_year\"] = electric_range[\"model_year\"].astype(int)\n",
    "\n",
    "    electric_range[\"vehicle_size\"] = np.where(electric_range[\"vehicle_class\"].isin(\n",
    "        [\"subcompact\", \"compact\", \"mid-size\", \"full-size\", \"two-seater\"]\n",
    "    ),\n",
    "    \"Sedan or smaller\",\n",
    "    \"SUV or larger\")\n",
    "\n",
    "    electric_range[\"model_year_grouped\"] = np.where(electric_range[\"model_year\"] <= 2021, \"2012-2021\", \"2022-2023\")\n",
    "\n",
    "    return electric_range\n"
   ]
  },
  {
   "cell_type": "code",
   "execution_count": 100,
   "metadata": {},
   "outputs": [],
   "source": [
    "%%capture\n",
    "\n",
    "electric_range = %sql SELECT * FROM electric_range_charge\n",
    "\n",
    "electric_range = pd.DataFrame(electric_range)\n",
    "\n",
    "electric_range = clean_electric_columns(electric_range)"
   ]
  },
  {
   "cell_type": "code",
   "execution_count": 101,
   "metadata": {},
   "outputs": [
    {
     "data": {
      "application/vnd.jupyter.widget-view+json": {
       "model_id": "f1890f4745574212ba4b1c7acfae4f32",
       "version_major": 2,
       "version_minor": 0
      },
      "text/plain": [
       "interactive(children=(Dropdown(description='(Un)select hue:', options=('vehicle_size', 'model_year_grouped', N…"
      ]
     },
     "metadata": {},
     "output_type": "display_data"
    }
   ],
   "source": [
    "scatter = Seaborn_Scatter(electric_range)\n",
    "interact(scatter.draw_scatter_electric_range, hue=scatter.dropdown);"
   ]
  },
  {
   "cell_type": "markdown",
   "metadata": {},
   "source": [
    "## Histogram of CO2 emissions by vehcile and fuel type"
   ]
  },
  {
   "cell_type": "code",
   "execution_count": 102,
   "metadata": {},
   "outputs": [],
   "source": [
    "%%capture\n",
    "\n",
    "%%sql --save hist_co2 --no-execute\n",
    "SELECT vehicle_type, fuel_type, co2_emissions_g_km::INTEGER as co2_emissions_g_km\n",
    "FROM all_vehicles\n",
    "WHERE co2_emissions_g_km is not null"
   ]
  },
  {
   "cell_type": "code",
   "execution_count": 103,
   "metadata": {},
   "outputs": [
    {
     "data": {
      "application/vnd.jupyter.widget-view+json": {
       "model_id": "e97094d9685746cea84f0c09cd70a1f0",
       "version_major": 2,
       "version_minor": 0
      },
      "text/plain": [
       "interactive(children=(IntSlider(value=10, description='Bins:', max=20, min=1), Dropdown(description='Colormap:…"
      ]
     },
     "metadata": {},
     "output_type": "display_data"
    }
   ],
   "source": [
    "histogram = Histogram_ggplot()\n",
    "interact(\n",
    "    histogram.co2_histogram,\n",
    "    b=histogram.intslider,\n",
    "    cmap=histogram.dropdown,\n",
    "    fill=histogram.radio_button,\n",
    ");"
   ]
  },
  {
   "cell_type": "markdown",
   "metadata": {},
   "source": [
    "## CO2 emissions of hybrid and fuel-only US car brands by transmission type"
   ]
  },
  {
   "cell_type": "code",
   "execution_count": 104,
   "metadata": {},
   "outputs": [],
   "source": [
    "%%capture\n",
    "\n",
    "%%sql --save co2_usa --no_execute\n",
    "SELECT vehicle_type, make, co2_emissions_g_km, transmission_type\n",
    "FROM all_vehicles\n",
    "WHERE co2_emissions_g_km IS NOT null AND\n",
    "vehicle_type IN ('fuel-only', 'hybrid') AND\n",
    "make IN ('cadillac', 'chevrolet', 'chrysler', 'ford', 'jeep', 'lincoln')"
   ]
  },
  {
   "cell_type": "code",
   "execution_count": 105,
   "metadata": {},
   "outputs": [],
   "source": [
    "%%capture\n",
    "\n",
    "co2_usa = %sql SELECT * FROM co2_usa\n",
    "co2_usa = pd.DataFrame(co2_usa)"
   ]
  },
  {
   "cell_type": "code",
   "execution_count": 106,
   "metadata": {},
   "outputs": [
    {
     "data": {
      "application/vnd.jupyter.widget-view+json": {
       "model_id": "2244db4cf3f24bd383006881c3e3fb90",
       "version_major": 2,
       "version_minor": 0
      },
      "text/plain": [
       "interactive(children=(Dropdown(description='(Un)select hue:', options=('vehicle_type', 'transmission_type', No…"
      ]
     },
     "metadata": {},
     "output_type": "display_data"
    }
   ],
   "source": [
    "boxplot = Seaborn_Boxplot(co2_usa)\n",
    "interact(boxplot.draw_boxplot_usa, hue=boxplot.dropdown);"
   ]
  }
 ],
 "metadata": {
  "kernelspec": {
   "display_name": "sql-course",
   "language": "python",
   "name": "sql-course"
  },
  "language_info": {
   "codemirror_mode": {
    "name": "ipython",
    "version": 3
   },
   "file_extension": ".py",
   "mimetype": "text/x-python",
   "name": "python",
   "nbconvert_exporter": "python",
   "pygments_lexer": "ipython3",
   "version": "3.11.6"
  }
 },
 "nbformat": 4,
 "nbformat_minor": 2
}
